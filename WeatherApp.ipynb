{
  "nbformat": 4,
  "nbformat_minor": 0,
  "metadata": {
    "colab": {
      "provenance": [],
      "authorship_tag": "ABX9TyOC57BboSnqCP294USP/npf",
      "include_colab_link": true
    },
    "kernelspec": {
      "name": "python3",
      "display_name": "Python 3"
    },
    "language_info": {
      "name": "python"
    }
  },
  "cells": [
    {
      "cell_type": "markdown",
      "metadata": {
        "id": "view-in-github",
        "colab_type": "text"
      },
      "source": [
        "<a href=\"https://colab.research.google.com/github/ambeyha/ambeyha/blob/main/WeatherApp.ipynb\" target=\"_parent\"><img src=\"https://colab.research.google.com/assets/colab-badge.svg\" alt=\"Open In Colab\"/></a>"
      ]
    },
    {
      "cell_type": "code",
      "execution_count": 1,
      "metadata": {
        "id": "7WvURDvl6SLy"
      },
      "outputs": [],
      "source": [
        "import requests\n",
        "\n",
        "API_KEY = 'YOUR_API_KEY'\n",
        "BASE_URL = 'https://api.openweathermap.org/data/2.5/weather'\n",
        "\n",
        "city = input('Enter a city name: ')\n",
        "request_url = f'{BASE_URL}?appid={API_KEY}&q={city}'\n",
        "response = requests.get(request_url)\n",
        "\n",
        "if response.status_code == 200:\n",
        "    data = response.json()\n",
        "    weather = data[\"weather\"][0][\"description\"]\n",
        "    temperature = round(data[\"main\"][\"temp\"] - 273.15, 2)\n",
        "\n",
        "    print(\"Weather:\", weather)\n",
        "    print(\"Temperature:\", temperature, \"celsius\")\n",
        "else:\n",
        "    print(\"An error occurred.\")"
      ]
    },
    {
      "cell_type": "code",
      "source": [],
      "metadata": {
        "id": "CPCZdzdT6dTM"
      },
      "execution_count": null,
      "outputs": []
    }
  ]
}